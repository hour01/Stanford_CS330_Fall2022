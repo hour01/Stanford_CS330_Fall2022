{
 "cells": [
  {
   "cell_type": "code",
   "execution_count": 9,
   "metadata": {},
   "outputs": [],
   "source": [
    "import os\n",
    "import numpy as np\n",
    "import random\n",
    "data_folder = \"./omniglot_resized\""
   ]
  },
  {
   "cell_type": "code",
   "execution_count": 3,
   "metadata": {},
   "outputs": [],
   "source": [
    "character_folders = [\n",
    "            os.path.join(data_folder, family, character)\n",
    "            for family in os.listdir(data_folder)\n",
    "            if os.path.isdir(os.path.join(data_folder, family))\n",
    "            for character in os.listdir(os.path.join(data_folder, family))\n",
    "            if os.path.isdir(os.path.join(data_folder, family, character))\n",
    "        ]"
   ]
  },
  {
   "cell_type": "code",
   "execution_count": 6,
   "metadata": {},
   "outputs": [],
   "source": [
    "folders = character_folders[:10]"
   ]
  },
  {
   "cell_type": "code",
   "execution_count": 7,
   "metadata": {},
   "outputs": [],
   "source": [
    "target = np.random.choice(folders, 3)"
   ]
  },
  {
   "cell_type": "code",
   "execution_count": 8,
   "metadata": {},
   "outputs": [
    {
     "data": {
      "text/plain": [
       "array(['./omniglot_resized\\\\Alphabet_of_the_Magi\\\\character04',\n",
       "       './omniglot_resized\\\\Alphabet_of_the_Magi\\\\character02',\n",
       "       './omniglot_resized\\\\Alphabet_of_the_Magi\\\\character04'],\n",
       "      dtype='<U51')"
      ]
     },
     "execution_count": 8,
     "metadata": {},
     "output_type": "execute_result"
    }
   ],
   "source": [
    "target"
   ]
  },
  {
   "cell_type": "code",
   "execution_count": 14,
   "metadata": {},
   "outputs": [
    {
     "name": "stdout",
     "output_type": "stream",
     "text": [
      "<class 'str'> <class 'numpy.str_'>\n",
      "./omniglot_resized\\Alphabet_of_the_Magi\\character04\\0712_03.png\n",
      "<class 'str'> <class 'numpy.str_'>\n",
      "./omniglot_resized\\Alphabet_of_the_Magi\\character04\\0712_07.png\n",
      "<class 'str'> <class 'numpy.str_'>\n",
      "./omniglot_resized\\Alphabet_of_the_Magi\\character04\\0712_06.png\n"
     ]
    }
   ],
   "source": [
    "sampler = lambda x: random.sample(x, 3)\n",
    "for image in sampler(os.listdir(target[0])):\n",
    "    print(type(image), type(target[0]))\n",
    "    print(os.path.join(target[0], image))\n"
   ]
  },
  {
   "cell_type": "code",
   "execution_count": null,
   "metadata": {},
   "outputs": [],
   "source": [
    "\n",
    "images_labels = [\n",
    "    (i, os.path.join(path, image))\n",
    "    for i, path in zip(labels, paths)\n",
    "    for image in sampler(os.listdir(path))\n",
    "]"
   ]
  },
  {
   "cell_type": "code",
   "execution_count": null,
   "metadata": {},
   "outputs": [],
   "source": []
  }
 ],
 "metadata": {
  "kernelspec": {
   "display_name": "Python 3",
   "language": "python",
   "name": "python3"
  },
  "language_info": {
   "codemirror_mode": {
    "name": "ipython",
    "version": 3
   },
   "file_extension": ".py",
   "mimetype": "text/x-python",
   "name": "python",
   "nbconvert_exporter": "python",
   "pygments_lexer": "ipython3",
   "version": "3.8.0"
  },
  "orig_nbformat": 4
 },
 "nbformat": 4,
 "nbformat_minor": 2
}
